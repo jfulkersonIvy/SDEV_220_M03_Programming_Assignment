{
 "cells": [
  {
   "cell_type": "code",
   "execution_count": 29,
   "id": "69b1f3eb",
   "metadata": {},
   "outputs": [],
   "source": [
    "# Jonathan Fulkerson\n",
    "# SDEV 220\n",
    "# Module 3 Programming Assignment 9.2\n",
    "# 7.28.22"
   ]
  },
  {
   "cell_type": "code",
   "execution_count": 46,
   "id": "90c0d1b2",
   "metadata": {},
   "outputs": [],
   "source": [
    "def get_odds(first = 0, last = 10, step = 1):\n",
    "    number = first\n",
    "    while number < last:\n",
    "        if number % 2 == 0:\n",
    "            number += step\n",
    "        else:\n",
    "            yield number\n",
    "            number += step"
   ]
  },
  {
   "cell_type": "code",
   "execution_count": 47,
   "id": "239f3a58",
   "metadata": {},
   "outputs": [
    {
     "name": "stdout",
     "output_type": "stream",
     "text": [
      "<generator object get_odds at 0x000001575E10FB30>\n"
     ]
    }
   ],
   "source": [
    "odds = get_odds()\n",
    "print(odds)"
   ]
  },
  {
   "cell_type": "code",
   "execution_count": 48,
   "id": "fbfb4973",
   "metadata": {},
   "outputs": [
    {
     "name": "stdout",
     "output_type": "stream",
     "text": [
      "5\n"
     ]
    }
   ],
   "source": [
    "count = 1\n",
    "for x in odds:\n",
    "    if count == 3:\n",
    "        print(x)\n",
    "        break\n",
    "    else:\n",
    "        count += 1\n",
    "        continue"
   ]
  },
  {
   "cell_type": "code",
   "execution_count": null,
   "id": "88899fc9",
   "metadata": {},
   "outputs": [],
   "source": []
  }
 ],
 "metadata": {
  "kernelspec": {
   "display_name": "Python 3 (ipykernel)",
   "language": "python",
   "name": "python3"
  },
  "language_info": {
   "codemirror_mode": {
    "name": "ipython",
    "version": 3
   },
   "file_extension": ".py",
   "mimetype": "text/x-python",
   "name": "python",
   "nbconvert_exporter": "python",
   "pygments_lexer": "ipython3",
   "version": "3.9.12"
  }
 },
 "nbformat": 4,
 "nbformat_minor": 5
}
